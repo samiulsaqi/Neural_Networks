{
 "cells": [
  {
   "cell_type": "code",
   "execution_count": 1,
   "id": "auburn-kruger",
   "metadata": {},
   "outputs": [],
   "source": [
    "#Import Dependencies\n",
    "import pandas as pd\n",
    "import numpy as np\n",
    "import matplotlib as plt\n",
    "import sklearn as skl\n",
    "import tensorflow as tf\n",
    "from sklearn.datasets import make_blobs"
   ]
  },
  {
   "cell_type": "code",
   "execution_count": 2,
   "id": "partial-atlantic",
   "metadata": {},
   "outputs": [],
   "source": [
    "#generate dummy values\n",
    "X, y = make_blobs(n_samples=1000, centers=2,n_features=2, random_state=78)\n"
   ]
  },
  {
   "cell_type": "code",
   "execution_count": 3,
   "id": "promising-european",
   "metadata": {},
   "outputs": [],
   "source": [
    "#create df with the dummy data\n",
    "df = pd.DataFrame(X, columns=[\"Feature 1\",\"Feature 2\"])\n",
    "df[\"Target\"] = y\n"
   ]
  },
  {
   "cell_type": "code",
   "execution_count": 4,
   "id": "headed-transfer",
   "metadata": {},
   "outputs": [
    {
     "data": {
      "text/plain": [
       "<AxesSubplot:xlabel='Feature 1', ylabel='Feature 2'>"
      ]
     },
     "execution_count": 4,
     "metadata": {},
     "output_type": "execute_result"
    },
    {
     "data": {
      "image/png": "[encoded data removed]",
      "text/plain": [
       "<Figure size 432x288 with 2 Axes>"
      ]
     },
     "metadata": {
      "needs_background": "light"
     },
     "output_type": "display_data"
    }
   ],
   "source": [
    "#plot the dummy data\n",
    "df.plot.scatter(x=\"Feature 1\", y=\"Feature 2\",c=\"Target\",colormap=\"winter\")"
   ]
  },
  {
   "cell_type": "code",
   "execution_count": 5,
   "id": "prospective-curtis",
   "metadata": {},
   "outputs": [],
   "source": [
    "# Use sklearn to split dataset\n",
    "from sklearn.model_selection import train_test_split\n",
    "X_train, X_test, y_train, y_test = train_test_split(X, y, random_state=78)"
   ]
  },
  {
   "cell_type": "code",
   "execution_count": 6,
   "id": "german-specialist",
   "metadata": {},
   "outputs": [],
   "source": [
    "#create scaler instance\n",
    "X_scaler = skl.preprocessing.StandardScaler()\n",
    "\n",
    "#Fit the scaler\n",
    "X_scaler.fit(X_train)\n",
    "\n",
    "#Scale the data\n",
    "X_train_scaled = X_scaler.transform(X_train)\n",
    "X_test_scaled = X_scaler.transform(X_test)"
   ]
  },
  {
   "cell_type": "code",
   "execution_count": 7,
   "id": "fitted-angle",
   "metadata": {},
   "outputs": [],
   "source": [
    "#create keras sequential model\n",
    "nn_model = tf.keras.models.Sequential()"
   ]
  },
  {
   "cell_type": "code",
   "execution_count": 8,
   "id": "electrical-scratch",
   "metadata": {},
   "outputs": [],
   "source": [
    "#Add our first Dense Layer including the input layer\n",
    "nn_model.add(tf.keras.layers.Dense(units=1, activation=\"relu\", input_dim=2))"
   ]
  },
  {
   "cell_type": "code",
   "execution_count": 9,
   "id": "mounted-myanmar",
   "metadata": {},
   "outputs": [],
   "source": [
    "#add the output layer that uses a probability activation function\n",
    "nn_model.add(tf.keras.layers.Dense(units=1, activation=\"sigmoid\"))"
   ]
  },
  {
   "cell_type": "code",
   "execution_count": 10,
   "id": "binary-wayne",
   "metadata": {},
   "outputs": [
    {
     "name": "stdout",
     "output_type": "stream",
     "text": [
      "Model: \"sequential\"\n",
      "_________________________________________________________________\n",
      "Layer (type)                 Output Shape              Param #   \n",
      "=================================================================\n",
      "dense (Dense)                (None, 1)                 3         \n",
      "_________________________________________________________________\n",
      "dense_1 (Dense)              (None, 1)                 2         \n",
      "=================================================================\n",
      "Total params: 5\n",
      "Trainable params: 5\n",
      "Non-trainable params: 0\n",
      "_________________________________________________________________\n"
     ]
    }
   ],
   "source": [
    "#check the model structure\n",
    "nn_model.summary()"
   ]
  },
  {
   "cell_type": "code",
   "execution_count": 11,
   "id": "surprised-recorder",
   "metadata": {},
   "outputs": [],
   "source": [
    "#Compile the sequential model and customize metrics\n",
    "nn_model.compile(loss=\"binary_crossentropy\", optimizer=\"adam\",metrics=[\"accuracy\"])"
   ]
  },
  {
   "cell_type": "code",
   "execution_count": 12,
   "id": "sustainable-danger",
   "metadata": {},
   "outputs": [
    {
     "name": "stdout",
     "output_type": "stream",
     "text": [
      "Epoch 1/100\n",
      "24/24 [==============================] - 0s 716us/step - loss: 0.7391 - accuracy: 0.5376\n",
      "Epoch 2/100\n",
      "24/24 [==============================] - 0s 607us/step - loss: 0.7158 - accuracy: 0.5595\n",
      "Epoch 3/100\n",
      "24/24 [==============================] - 0s 607us/step - loss: 0.6774 - accuracy: 0.6065\n",
      "Epoch 4/100\n",
      "24/24 [==============================] - 0s 607us/step - loss: 0.6805 - accuracy: 0.6073\n",
      "Epoch 5/100\n",
      "24/24 [==============================] - 0s 695us/step - loss: 0.6545 - accuracy: 0.6396\n",
      "Epoch 6/100\n",
      "24/24 [==============================] - 0s 737us/step - loss: 0.6535 - accuracy: 0.6380\n",
      "Epoch 7/100\n",
      "24/24 [==============================] - 0s 694us/step - loss: 0.6466 - accuracy: 0.6446\n",
      "Epoch 8/100\n",
      "24/24 [==============================] - 0s 737us/step - loss: 0.6133 - accuracy: 0.7029\n",
      "Epoch 9/100\n",
      "24/24 [==============================] - 0s 737us/step - loss: 0.6269 - accuracy: 0.6715\n",
      "Epoch 10/100\n",
      "24/24 [==============================] - 0s 650us/step - loss: 0.6003 - accuracy: 0.6936\n",
      "Epoch 11/100\n",
      "24/24 [==============================] - 0s 763us/step - loss: 0.6127 - accuracy: 0.6810\n",
      "Epoch 12/100\n",
      "24/24 [==============================] - 0s 694us/step - loss: 0.6088 - accuracy: 0.6898\n",
      "Epoch 13/100\n",
      "24/24 [==============================] - 0s 650us/step - loss: 0.6075 - accuracy: 0.7012\n",
      "Epoch 14/100\n",
      "24/24 [==============================] - 0s 694us/step - loss: 0.5977 - accuracy: 0.7006\n",
      "Epoch 15/100\n",
      "24/24 [==============================] - 0s 650us/step - loss: 0.5712 - accuracy: 0.7391\n",
      "Epoch 16/100\n",
      "24/24 [==============================] - 0s 650us/step - loss: 0.5742 - accuracy: 0.7233\n",
      "Epoch 17/100\n",
      "24/24 [==============================] - 0s 768us/step - loss: 0.5602 - accuracy: 0.7501\n",
      "Epoch 18/100\n",
      "24/24 [==============================] - 0s 564us/step - loss: 0.5406 - accuracy: 0.7602\n",
      "Epoch 19/100\n",
      "24/24 [==============================] - 0s 650us/step - loss: 0.5627 - accuracy: 0.7365\n",
      "Epoch 20/100\n",
      "24/24 [==============================] - 0s 651us/step - loss: 0.5325 - accuracy: 0.7827\n",
      "Epoch 21/100\n",
      "24/24 [==============================] - 0s 564us/step - loss: 0.5292 - accuracy: 0.7682\n",
      "Epoch 22/100\n",
      "24/24 [==============================] - 0s 650us/step - loss: 0.5259 - accuracy: 0.7870\n",
      "Epoch 23/100\n",
      "24/24 [==============================] - 0s 716us/step - loss: 0.5297 - accuracy: 0.7661\n",
      "Epoch 24/100\n",
      "24/24 [==============================] - 0s 738us/step - loss: 0.5170 - accuracy: 0.7741\n",
      "Epoch 25/100\n",
      "24/24 [==============================] - 0s 650us/step - loss: 0.5176 - accuracy: 0.7693\n",
      "Epoch 26/100\n",
      "24/24 [==============================] - 0s 650us/step - loss: 0.4809 - accuracy: 0.8324\n",
      "Epoch 27/100\n",
      "24/24 [==============================] - 0s 607us/step - loss: 0.4799 - accuracy: 0.8167\n",
      "Epoch 28/100\n",
      "24/24 [==============================] - 0s 803us/step - loss: 0.4659 - accuracy: 0.8214\n",
      "Epoch 29/100\n",
      "24/24 [==============================] - 0s 694us/step - loss: 0.4785 - accuracy: 0.8160\n",
      "Epoch 30/100\n",
      "24/24 [==============================] - 0s 652us/step - loss: 0.4770 - accuracy: 0.8268\n",
      "Epoch 31/100\n",
      "24/24 [==============================] - 0s 694us/step - loss: 0.4710 - accuracy: 0.8286\n",
      "Epoch 32/100\n",
      "24/24 [==============================] - 0s 737us/step - loss: 0.4556 - accuracy: 0.8386\n",
      "Epoch 33/100\n",
      "24/24 [==============================] - 0s 737us/step - loss: 0.4660 - accuracy: 0.8191\n",
      "Epoch 34/100\n",
      "24/24 [==============================] - 0s 737us/step - loss: 0.4405 - accuracy: 0.8389\n",
      "Epoch 35/100\n",
      "24/24 [==============================] - 0s 761us/step - loss: 0.4268 - accuracy: 0.8590\n",
      "Epoch 36/100\n",
      "24/24 [==============================] - 0s 650us/step - loss: 0.4221 - accuracy: 0.8652\n",
      "Epoch 37/100\n",
      "24/24 [==============================] - 0s 650us/step - loss: 0.4091 - accuracy: 0.8690\n",
      "Epoch 38/100\n",
      "24/24 [==============================] - 0s 694us/step - loss: 0.4103 - accuracy: 0.8610\n",
      "Epoch 39/100\n",
      "24/24 [==============================] - 0s 824us/step - loss: 0.4053 - accuracy: 0.8577\n",
      "Epoch 40/100\n",
      "24/24 [==============================] - 0s 781us/step - loss: 0.3961 - accuracy: 0.8697\n",
      "Epoch 41/100\n",
      "24/24 [==============================] - 0s 650us/step - loss: 0.3900 - accuracy: 0.8634\n",
      "Epoch 42/100\n",
      "24/24 [==============================] - 0s 650us/step - loss: 0.3974 - accuracy: 0.8512\n",
      "Epoch 43/100\n",
      "24/24 [==============================] - 0s 650us/step - loss: 0.3773 - accuracy: 0.8751\n",
      "Epoch 44/100\n",
      "24/24 [==============================] - 0s 737us/step - loss: 0.3838 - accuracy: 0.8750\n",
      "Epoch 45/100\n",
      "24/24 [==============================] - 0s 737us/step - loss: 0.3744 - accuracy: 0.8722\n",
      "Epoch 46/100\n",
      "24/24 [==============================] - 0s 650us/step - loss: 0.4011 - accuracy: 0.8557\n",
      "Epoch 47/100\n",
      "24/24 [==============================] - 0s 714us/step - loss: 0.3808 - accuracy: 0.8806\n",
      "Epoch 48/100\n",
      "24/24 [==============================] - 0s 694us/step - loss: 0.3472 - accuracy: 0.9055\n",
      "Epoch 49/100\n",
      "24/24 [==============================] - 0s 694us/step - loss: 0.3632 - accuracy: 0.8901\n",
      "Epoch 50/100\n",
      "24/24 [==============================] - 0s 737us/step - loss: 0.3361 - accuracy: 0.9065\n",
      "Epoch 51/100\n",
      "24/24 [==============================] - 0s 650us/step - loss: 0.3346 - accuracy: 0.8948\n",
      "Epoch 52/100\n",
      "24/24 [==============================] - 0s 651us/step - loss: 0.3249 - accuracy: 0.9156\n",
      "Epoch 53/100\n",
      "24/24 [==============================] - 0s 650us/step - loss: 0.3071 - accuracy: 0.9172\n",
      "Epoch 54/100\n",
      "24/24 [==============================] - 0s 694us/step - loss: 0.3131 - accuracy: 0.9062\n",
      "Epoch 55/100\n",
      "24/24 [==============================] - 0s 650us/step - loss: 0.2993 - accuracy: 0.9192\n",
      "Epoch 56/100\n",
      "24/24 [==============================] - 0s 694us/step - loss: 0.3063 - accuracy: 0.9117\n",
      "Epoch 57/100\n",
      "24/24 [==============================] - 0s 737us/step - loss: 0.2896 - accuracy: 0.9250\n",
      "Epoch 58/100\n",
      "24/24 [==============================] - 0s 607us/step - loss: 0.3183 - accuracy: 0.9059\n",
      "Epoch 59/100\n",
      "24/24 [==============================] - 0s 607us/step - loss: 0.2830 - accuracy: 0.9257\n",
      "Epoch 60/100\n",
      "24/24 [==============================] - 0s 564us/step - loss: 0.2694 - accuracy: 0.9422\n",
      "Epoch 61/100\n",
      "24/24 [==============================] - 0s 694us/step - loss: 0.2735 - accuracy: 0.9277\n",
      "Epoch 62/100\n",
      "24/24 [==============================] - 0s 607us/step - loss: 0.2987 - accuracy: 0.9120\n",
      "Epoch 63/100\n",
      "24/24 [==============================] - 0s 607us/step - loss: 0.2673 - accuracy: 0.9236\n",
      "Epoch 64/100\n",
      "24/24 [==============================] - 0s 607us/step - loss: 0.2482 - accuracy: 0.9468\n",
      "Epoch 65/100\n",
      "24/24 [==============================] - 0s 564us/step - loss: 0.2475 - accuracy: 0.9433\n",
      "Epoch 66/100\n",
      "24/24 [==============================] - 0s 607us/step - loss: 0.2639 - accuracy: 0.9363\n",
      "Epoch 67/100\n",
      "24/24 [==============================] - 0s 607us/step - loss: 0.2465 - accuracy: 0.9518\n",
      "Epoch 68/100\n",
      "24/24 [==============================] - 0s 737us/step - loss: 0.2417 - accuracy: 0.9498\n",
      "Epoch 69/100\n",
      "24/24 [==============================] - 0s 650us/step - loss: 0.2323 - accuracy: 0.9523\n",
      "Epoch 70/100\n",
      "24/24 [==============================] - 0s 607us/step - loss: 0.2293 - accuracy: 0.9465\n",
      "Epoch 71/100\n",
      "24/24 [==============================] - 0s 607us/step - loss: 0.2312 - accuracy: 0.9507\n",
      "Epoch 72/100\n",
      "24/24 [==============================] - 0s 564us/step - loss: 0.2133 - accuracy: 0.9535\n",
      "Epoch 73/100\n",
      "24/24 [==============================] - 0s 694us/step - loss: 0.2152 - accuracy: 0.9539\n",
      "Epoch 74/100\n",
      "24/24 [==============================] - 0s 607us/step - loss: 0.1919 - accuracy: 0.9647\n",
      "Epoch 75/100\n",
      "24/24 [==============================] - 0s 607us/step - loss: 0.2081 - accuracy: 0.9497\n",
      "Epoch 76/100\n",
      "24/24 [==============================] - 0s 607us/step - loss: 0.1946 - accuracy: 0.9596\n",
      "Epoch 77/100\n",
      "24/24 [==============================] - 0s 607us/step - loss: 0.1822 - accuracy: 0.9686\n",
      "Epoch 78/100\n",
      "24/24 [==============================] - 0s 564us/step - loss: 0.1904 - accuracy: 0.9539\n",
      "Epoch 79/100\n",
      "24/24 [==============================] - 0s 650us/step - loss: 0.1857 - accuracy: 0.9584\n",
      "Epoch 80/100\n",
      "24/24 [==============================] - 0s 607us/step - loss: 0.1939 - accuracy: 0.9527\n",
      "Epoch 81/100\n"
     ]
    },
    {
     "name": "stdout",
     "output_type": "stream",
     "text": [
      "24/24 [==============================] - 0s 737us/step - loss: 0.1771 - accuracy: 0.9662\n",
      "Epoch 82/100\n",
      "24/24 [==============================] - 0s 1ms/step - loss: 0.1697 - accuracy: 0.9717\n",
      "Epoch 83/100\n",
      "24/24 [==============================] - 0s 954us/step - loss: 0.1726 - accuracy: 0.9644\n",
      "Epoch 84/100\n",
      "24/24 [==============================] - 0s 1ms/step - loss: 0.1648 - accuracy: 0.9721\n",
      "Epoch 85/100\n",
      "24/24 [==============================] - 0s 737us/step - loss: 0.1563 - accuracy: 0.9734\n",
      "Epoch 86/100\n",
      "24/24 [==============================] - 0s 737us/step - loss: 0.1519 - accuracy: 0.9790\n",
      "Epoch 87/100\n",
      "24/24 [==============================] - 0s 694us/step - loss: 0.1557 - accuracy: 0.9738\n",
      "Epoch 88/100\n",
      "24/24 [==============================] - 0s 716us/step - loss: 0.1497 - accuracy: 0.9746\n",
      "Epoch 89/100\n",
      "24/24 [==============================] - 0s 824us/step - loss: 0.1527 - accuracy: 0.9794\n",
      "Epoch 90/100\n",
      "24/24 [==============================] - 0s 737us/step - loss: 0.1496 - accuracy: 0.9744\n",
      "Epoch 91/100\n",
      "24/24 [==============================] - 0s 781us/step - loss: 0.1330 - accuracy: 0.9830\n",
      "Epoch 92/100\n",
      "24/24 [==============================] - 0s 780us/step - loss: 0.1271 - accuracy: 0.9842\n",
      "Epoch 93/100\n",
      "24/24 [==============================] - 0s 780us/step - loss: 0.1392 - accuracy: 0.9802\n",
      "Epoch 94/100\n",
      "24/24 [==============================] - 0s 694us/step - loss: 0.1309 - accuracy: 0.9881\n",
      "Epoch 95/100\n",
      "24/24 [==============================] - 0s 650us/step - loss: 0.1275 - accuracy: 0.9835\n",
      "Epoch 96/100\n",
      "24/24 [==============================] - 0s 737us/step - loss: 0.1269 - accuracy: 0.9876\n",
      "Epoch 97/100\n",
      "24/24 [==============================] - 0s 650us/step - loss: 0.1197 - accuracy: 0.9868\n",
      "Epoch 98/100\n",
      "24/24 [==============================] - 0s 780us/step - loss: 0.1123 - accuracy: 0.9888\n",
      "Epoch 99/100\n",
      "24/24 [==============================] - 0s 824us/step - loss: 0.1236 - accuracy: 0.9814\n",
      "Epoch 100/100\n",
      "24/24 [==============================] - 0s 737us/step - loss: 0.1162 - accuracy: 0.9826\n"
     ]
    }
   ],
   "source": [
    "# Fit the model to the training data\n",
    "fit_model = nn_model.fit(X_train_scaled, y_train, epochs=100)"
   ]
  },
  {
   "cell_type": "code",
   "execution_count": 13,
   "id": "israeli-plaintiff",
   "metadata": {},
   "outputs": [
    {
     "data": {
      "text/plain": [
       "<AxesSubplot:>"
      ]
     },
     "execution_count": 13,
     "metadata": {},
     "output_type": "execute_result"
    },
    {
     "data": {
      "image/png": "[encoded data removed]",
      "text/plain": [
       "<Figure size 432x288 with 1 Axes>"
      ]
     },
     "metadata": {
      "needs_background": "light"
     },
     "output_type": "display_data"
    }
   ],
   "source": [
    "# Create a DataFrame containing training history\n",
    "history_df = pd.DataFrame(fit_model.history, index=range(1,len(fit_model.history[\"loss\"])+1))\n",
    "\n",
    "#plot the loss\n",
    "history_df.plot(y=\"loss\")"
   ]
  },
  {
   "cell_type": "code",
   "execution_count": 14,
   "id": "amino-lincoln",
   "metadata": {},
   "outputs": [
    {
     "data": {
      "text/plain": [
       "<AxesSubplot:>"
      ]
     },
     "execution_count": 14,
     "metadata": {},
     "output_type": "execute_result"
    },
    {
     "data": {
      "image/png": "[encoded data removed]",
      "text/plain": [
       "<Figure size 432x288 with 1 Axes>"
      ]
     },
     "metadata": {
      "needs_background": "light"
     },
     "output_type": "display_data"
    }
   ],
   "source": [
    "# Plot the accuracy\n",
    "history_df.plot(y=\"accuracy\")"
   ]
  },
  {
   "cell_type": "code",
   "execution_count": 15,
   "id": "everyday-kitchen",
   "metadata": {},
   "outputs": [
    {
     "name": "stdout",
     "output_type": "stream",
     "text": [
      "8/8 - 0s - loss: 0.1006 - accuracy: 0.9960\n",
      "Loss:0.10060103237628937, Accuracy: 0.9959999918937683\n"
     ]
    }
   ],
   "source": [
    "#Evaluate the model using test data\n",
    "model_loss, model_accuracy = nn_model.evaluate(X_test_scaled,y_test,verbose=2)\n",
    "print(f\"Loss:{model_loss}, Accuracy: {model_accuracy}\")"
   ]
  },
  {
   "cell_type": "code",
   "execution_count": 16,
   "id": "extra-worcester",
   "metadata": {},
   "outputs": [
    {
     "name": "stderr",
     "output_type": "stream",
     "text": [
      "C:\\Users\\smuhammad\\Anaconda3\\envs\\testing\\lib\\site-packages\\tensorflow\\python\\keras\\engine\\sequential.py:450: UserWarning: `model.predict_classes()` is deprecated and will be removed after 2021-01-01. Please use instead:* `np.argmax(model.predict(x), axis=-1)`,   if your model does multi-class classification   (e.g. if it uses a `softmax` last-layer activation).* `(model.predict(x) > 0.5).astype(\"int32\")`,   if your model does binary classification   (e.g. if it uses a `sigmoid` last-layer activation).\n",
      "  warnings.warn('`model.predict_classes()` is deprecated and '\n"
     ]
    },
    {
     "data": {
      "text/plain": [
       "array([[0],\n",
       "       [1],\n",
       "       [0],\n",
       "       [1],\n",
       "       [0],\n",
       "       [0],\n",
       "       [1],\n",
       "       [1],\n",
       "       [1],\n",
       "       [0]])"
      ]
     },
     "execution_count": 16,
     "metadata": {},
     "output_type": "execute_result"
    }
   ],
   "source": [
    "#predict the classification of a new set of blob data\n",
    "new_X, new_y = make_blobs(n_samples=10,centers=2,n_features=2,random_state=78)\n",
    "new_X_scaled = X_scaler.transform(new_X)\n",
    "nn_model.predict_classes(new_X_scaled)"
   ]
  },
  {
   "cell_type": "code",
   "execution_count": null,
   "id": "postal-israel",
   "metadata": {},
   "outputs": [],
   "source": []
  }
 ],
 "metadata": {
  "kernelspec": {
   "display_name": "Python 3",
   "language": "python",
   "name": "python3"
  },
  "language_info": {
   "codemirror_mode": {
    "name": "ipython",
    "version": 3
   },
   "file_extension": ".py",
   "mimetype": "text/x-python",
   "name": "python",
   "nbconvert_exporter": "python",
   "pygments_lexer": "ipython3",
   "version": "3.8.8"
  }
 },
 "nbformat": 4,
 "nbformat_minor": 5
}
